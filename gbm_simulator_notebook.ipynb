{
 "cells": [
  {
   "cell_type": "code",
   "execution_count": null,
   "metadata": {},
   "outputs": [],
   "source": [
    "\n",
    "from math import exp,sqrt\n",
    "import numpy as np\n",
    "import pdb\n",
    "import matplotlib.pyplot as plt\n",
    "\n",
    "class geometric_brownian_motion_simulation:\n",
    "    '''\n",
    "        Parameters\n",
    "    ----------\n",
    "    initial price : `float`\n",
    "        The initial price of a stock at time 0.\n",
    "    drift_term : `float`\n",
    "        The .\n",
    "    sigma : `float`\n",
    "        The 'volatility' of the asset.\n",
    "    increments : `float`\n",
    "        The parameter used to govern the Pareto distribution\n",
    "        shape for the generation of volume data.\n",
    "    '''\n",
    "\n",
    "\n",
    "    def __init__(self, initial_price, drift_term, sigma, increments, time_interval, n_simulations):\n",
    "        self.initial_price = initial_price\n",
    "        self.drift_term = drift_term \n",
    "        self.sigma = sigma \n",
    "        self.increments = increments \n",
    "        self.time_interval = time_interval\n",
    "        self.simulations = n_simulations\n",
    "\n",
    "    \n",
    "    def calculate_gbm():\n",
    "        return\n",
    "\n",
    "    def run_simulations(self, n : int ):\n",
    "        '''\n",
    "        Determine how many brownian motion simulations you would like to generate\n",
    "        \n",
    "        Returns\n",
    "        --------\n",
    "        'dict' \n",
    "            A dictionary in which the key, value pairs are the index of each simulation and a list of the generated outcomes\n",
    "        \n",
    "        '''\n",
    "        results = {}\n",
    "        for i in n:\n",
    "            results[i] = self.calculate_gbm()\n",
    "        return results\n",
    "\n",
    "    def plot_simulations(self):\n",
    "        '''\n",
    "        Plot all simulations once they are ready\n",
    "        '''\n",
    "\n",
    "        return\n",
    "\n",
    "\n",
    "    def __call__(self):\n",
    "        '''\n",
    "        Call method to generate and plot all simulations after all variables are created\n",
    "        '''\n",
    "        simulations = self.run_simulations(self.simulations)\n",
    "        self.plot_simulations(simulations)\n",
    "        return\n",
    "\n",
    "\n"
   ]
  }
 ],
 "metadata": {
  "kernelspec": {
   "display_name": "marketMaking",
   "language": "python",
   "name": "python3"
  },
  "language_info": {
   "name": "python",
   "version": "3.10.4 | packaged by conda-forge | (main, Mar 30 2022, 08:38:02) [MSC v.1916 64 bit (AMD64)]"
  },
  "orig_nbformat": 4,
  "vscode": {
   "interpreter": {
    "hash": "a03e28c71e2368daaf3a27aaae58bbc6c42fc5503fdcb3ae6c3c633d8234ab34"
   }
  }
 },
 "nbformat": 4,
 "nbformat_minor": 2
}
